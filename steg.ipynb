{
 "cells": [
  {
   "cell_type": "code",
   "execution_count": 10,
   "metadata": {},
   "outputs": [
    {
     "name": "stdout",
     "output_type": "stream",
     "text": [
      "Requirement already satisfied: Pillow in c:\\users\\horak\\appdata\\local\\programs\\python\\python39\\lib\\site-packages (11.0.0)\n",
      "Note: you may need to restart the kernel to use updated packages.\n"
     ]
    },
    {
     "name": "stderr",
     "output_type": "stream",
     "text": [
      "WARNING: You are using pip version 22.0.4; however, version 25.0 is available.\n",
      "You should consider upgrading via the 'c:\\Users\\horak\\AppData\\Local\\Programs\\Python\\Python39\\python.exe -m pip install --upgrade pip' command.\n"
     ]
    }
   ],
   "source": [
    "pip install Pillow"
   ]
  },
  {
   "cell_type": "code",
   "execution_count": 23,
   "metadata": {},
   "outputs": [
    {
     "name": "stdout",
     "output_type": "stream",
     "text": [
      "Decoded image saved as C:\\pyt\\outimg\\1\\decoded.bmp\n"
     ]
    }
   ],
   "source": [
    "from PIL import Image\n",
    "\n",
    "def encode_image(base_image_path, secret_image_path, output_image_path):\n",
    "    base_image = Image.open(base_image_path)\n",
    "    secret_image = Image.open(secret_image_path)\n",
    "\n",
    "    # Resize the secret image to match the base image size\n",
    "    secret_image = secret_image.resize(base_image.size)\n",
    "\n",
    "    encoded_image = Image.new(\"RGB\", base_image.size)\n",
    "    width, height = base_image.size\n",
    "\n",
    "    for x in range(width):\n",
    "        for y in range(height):\n",
    "            base_pixel = base_image.getpixel((x, y))\n",
    "            secret_pixel = secret_image.getpixel((x, y))\n",
    "\n",
    "            # Encode the secret image into the base image\n",
    "            encoded_pixel = (\n",
    "                (base_pixel[0] & 0xFE) | (secret_pixel[0] >> 7),\n",
    "                (base_pixel[1] & 0xFE) | (secret_pixel[1] >> 7),\n",
    "                (base_pixel[2] & 0xFE) | (secret_pixel[2] >> 7)\n",
    "            )\n",
    "            encoded_image.putpixel((x, y), encoded_pixel)\n",
    "\n",
    "    encoded_image.save(output_image_path)\n",
    "    print(f\"Encoded image saved as {output_image_path}\")\n",
    "\n",
    "def decode_image(encoded_image_path, output_image_path):\n",
    "    encoded_image = Image.open(encoded_image_path)\n",
    "    decoded_image = Image.new(\"RGB\", encoded_image.size)\n",
    "    width, height = encoded_image.size\n",
    "\n",
    "    for x in range(width):\n",
    "        for y in range(height):\n",
    "            encoded_pixel = encoded_image.getpixel((x, y))\n",
    "\n",
    "            # Decode the secret image from the encoded image\n",
    "            decoded_pixel = (\n",
    "                (encoded_pixel[0] & 0x01) << 7,\n",
    "                (encoded_pixel[1] & 0x01) << 7,\n",
    "                (encoded_pixel[2] & 0x01) << 7\n",
    "            )\n",
    "            decoded_image.putpixel((x, y), decoded_pixel)\n",
    "\n",
    "    decoded_image.save(output_image_path)\n",
    "    print(f\"Decoded image saved as {output_image_path}\")\n",
    "\n",
    "# Example usage\n",
    "# encode_image(r'C:\\pyt\\kittens.bmp', r'C:\\pyt\\group9.bmp', r'C:\\pyt\\outimg\\output.bmp')\n",
    "decode_image(r'C:\\pyt\\outimg\\1\\output.bmp', r'C:\\pyt\\outimg\\1\\decoded.bmp')"
   ]
  }
 ],
 "metadata": {
  "kernelspec": {
   "display_name": "Python 3",
   "language": "python",
   "name": "python3"
  },
  "language_info": {
   "codemirror_mode": {
    "name": "ipython",
    "version": 3
   },
   "file_extension": ".py",
   "mimetype": "text/x-python",
   "name": "python",
   "nbconvert_exporter": "python",
   "pygments_lexer": "ipython3",
   "version": "3.9.13"
  }
 },
 "nbformat": 4,
 "nbformat_minor": 2
}
